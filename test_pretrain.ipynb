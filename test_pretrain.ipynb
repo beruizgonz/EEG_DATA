{
 "cells": [
  {
   "cell_type": "code",
   "execution_count": 1,
   "metadata": {},
   "outputs": [],
   "source": [
    "from matplotlib import pyplot as plt\n",
    "import numpy as np\n",
    "import pandas as pd\n",
    "import os\n",
    "\n",
    "from data.Dataset import MaskedDataset\n",
    "from data.DataModules import SSLDataModule\n",
    "from models import SSL_EEG\n",
    "from modules.decoders import MaskedDecoder\n",
    "from modules.loss import MaskedMSELoss"
   ]
  },
  {
   "cell_type": "markdown",
   "metadata": {},
   "source": [
    "In this notebook we want to plot the reconstrution of the pretrained model. "
   ]
  },
  {
   "cell_type": "markdown",
   "metadata": {},
   "source": [
    "# Load the model from the checkpoint"
   ]
  },
  {
   "cell_type": "code",
   "execution_count": 8,
   "metadata": {},
   "outputs": [],
   "source": [
    "checkpoints = os.path.join(os.getcwd(), 'checkpoints')  \n",
    "prueba = os.path.join(checkpoints, 'SSL-4s-val_loss=0.12-epoch=96.ckpt')\n",
    "# prueba2 = os.path.join(checkpoints, 'SSL-4s-v7.ckpt')"
   ]
  },
  {
   "cell_type": "code",
   "execution_count": 9,
   "metadata": {},
   "outputs": [
    {
     "data": {
      "text/plain": [
       "SSL_EEG(\n",
       "  (encoder): TSTransformerEncoder(\n",
       "    (pos_enc): FixedPositionalEncoding(\n",
       "      (dropout): Dropout(p=0.1, inplace=False)\n",
       "    )\n",
       "    (transformer_encoder): TransformerEncoder(\n",
       "      (layers): ModuleList(\n",
       "        (0-2): 3 x TransformerBatchNormEncoderLayer(\n",
       "          (self_attn): MultiheadAttention(\n",
       "            (out_proj): NonDynamicallyQuantizableLinear(in_features=128, out_features=128, bias=True)\n",
       "          )\n",
       "          (linear1): Linear(in_features=128, out_features=256, bias=True)\n",
       "          (dropout): Dropout(p=0.1, inplace=False)\n",
       "          (linear2): Linear(in_features=256, out_features=128, bias=True)\n",
       "          (norm1): BatchNorm1d(128, eps=1e-05, momentum=0.1, affine=True, track_running_stats=True)\n",
       "          (norm2): BatchNorm1d(128, eps=1e-05, momentum=0.1, affine=True, track_running_stats=True)\n",
       "          (dropout1): Dropout(p=0.1, inplace=False)\n",
       "          (dropout2): Dropout(p=0.1, inplace=False)\n",
       "        )\n",
       "      )\n",
       "    )\n",
       "    (dropout1): Dropout(p=0.1, inplace=False)\n",
       "  )\n",
       "  (covnet): Conv1DNet(\n",
       "    (conv1): Sequential(\n",
       "      (0): Conv1d(8, 16, kernel_size=(64,), stride=(1,), padding=same)\n",
       "      (1): LayerNorm((16, 512), eps=1e-05, elementwise_affine=True)\n",
       "      (2): ReLU()\n",
       "      (3): Dropout(p=0.1, inplace=False)\n",
       "    )\n",
       "    (conv2): Sequential(\n",
       "      (0): Conv1d(16, 32, kernel_size=(32,), stride=(1,), padding=same)\n",
       "      (1): LayerNorm((32, 512), eps=1e-05, elementwise_affine=True)\n",
       "      (2): ReLU()\n",
       "      (3): Dropout(p=0.1, inplace=False)\n",
       "    )\n",
       "    (conv3): Sequential(\n",
       "      (0): Conv1d(32, 128, kernel_size=(16,), stride=(1,), padding=same)\n",
       "      (1): LayerNorm((128, 512), eps=1e-05, elementwise_affine=True)\n",
       "      (2): ReLU()\n",
       "      (3): Dropout(p=0.1, inplace=False)\n",
       "    )\n",
       "  )\n",
       "  (decoder): MaskedDecoder(\n",
       "    (output_layer): Linear(in_features=128, out_features=8, bias=True)\n",
       "  )\n",
       ")"
      ]
     },
     "execution_count": 9,
     "metadata": {},
     "output_type": "execute_result"
    }
   ],
   "source": [
    "model = SSL_EEG.load_from_checkpoint(prueba, decoder = MaskedDecoder(d_model=128, feat_dim=8), loss_fn= MaskedMSELoss)\n",
    "model.eval()\n",
    "# model2 = SSL_EEG.load_from_checkpoint(prueba2, decoder = MaskedDecoder(d_model=64, feat_dim=8), loss_fn= MaskedMSELoss)\n",
    "# model2.eval()"
   ]
  },
  {
   "cell_type": "markdown",
   "metadata": {},
   "source": [
    "# Load the data"
   ]
  },
  {
   "cell_type": "code",
   "execution_count": 10,
   "metadata": {},
   "outputs": [
    {
     "name": "stdout",
     "output_type": "stream",
     "text": [
      "The length of the dataset is: 49182\n"
     ]
    }
   ],
   "source": [
    "eeg = os.path.join(os.getcwd(), 'data/LEMON-mask-4s-8channel.h5')\n",
    "masked_dataset = MaskedDataset(hdf5_file=eeg, normalize= 'normalization')\n",
    "# Create the data module with batch_size from wandb.config)\n",
    "datamodule = SSLDataModule(dataset = masked_dataset,\n",
    "    batch_size=1,\n",
    "    )\n",
    "datamodule.prepare_data()\n",
    "val_dataset = datamodule.val_dataset\n",
    "train_dataset = datamodule.train_dataset\n",
    "val_data = datamodule.val_dataloader()"
   ]
  },
  {
   "cell_type": "markdown",
   "metadata": {},
   "source": [
    "Load the data from the UVA dataset. "
   ]
  },
  {
   "cell_type": "code",
   "execution_count": 11,
   "metadata": {},
   "outputs": [
    {
     "data": {
      "application/vnd.jupyter.widget-view+json": {
       "model_id": "8bcb61af2d6c4497a136b2a9283eb32a",
       "version_major": 2,
       "version_minor": 0
      },
      "text/plain": [
       "interactive(children=(IntSlider(value=0, description='i', max=7), IntSlider(value=0, description='j', max=599)…"
      ]
     },
     "metadata": {},
     "output_type": "display_data"
    }
   ],
   "source": [
    "%matplotlib widget\n",
    "import matplotlib.pyplot as plt\n",
    "from ipywidgets import interact, IntSlider\n",
    "\n",
    "\n",
    "@interact(i=IntSlider(min=0, max=7, step=1, value=0), j=IntSlider(min=0, max=599, step=1, value=0), continuous_update=False)\n",
    "def plote(i, j):\n",
    "    sample_uva = train_dataset[j]\n",
    "    sample_uva_masked = sample_uva[0].unsqueeze(0)\n",
    "    sample_uva_raw = sample_uva[1]\n",
    "    sample_uva_mask = sample_uva[2].unsqueeze(0)\n",
    "    output_encoder, _= model(sample_uva_masked.to(model.device))\n",
    "    print(output_encoder.shape)\n",
    "    #output_encoder2, _= model2(sample_uva_masked.to(model2.device))\n",
    "    # Define x, assuming 128 data points for each sample\n",
    "    x = np.linspace(0, 512, 512)\n",
    "    \n",
    "    plt.figure(figsize=(10, 6))  # Create a new figure for each plot\n",
    "\n",
    "    # Plot the raw data\n",
    "    plt.plot(x, sample_uva_raw[:, i].cpu().detach().numpy(), label='Raw EEG')\n",
    "    # Plot the mask\n",
    "    #plt.plot(x, sample_uva_mask[0,:128, i].cpu().detach().numpy(), label='Mask')\n",
    "    #plt.plot(x, sample_uva_masked[0, :, i].cpu().detach().numpy(), label='Masked')\n",
    "    # Plot the prediction\n",
    "    plt.plot(x, output_encoder[0,:, i].cpu().detach().numpy(), label='Predicted')\n",
    "    \n",
    "    #plt.plot(x, output_encoder2[0, :128, i].cpu().detach().numpy(), label='Predicted2')\n",
    "    plt.legend()\n",
    "    plt.grid(True)\n",
    "    plt.xlabel('Time Step')\n",
    "    plt.ylabel('Amplitude')\n",
    "    plt.title(f'EEG Data Visualization for Channel {i+1} and Sample {j}')\n",
    "    plt.show()"
   ]
  },
  {
   "cell_type": "markdown",
   "metadata": {},
   "source": []
  },
  {
   "cell_type": "markdown",
   "metadata": {},
   "source": [
    "Prove the model in another dataset different of the use for train. View the generalization of the model. "
   ]
  },
  {
   "cell_type": "code",
   "execution_count": null,
   "metadata": {},
   "outputs": [],
   "source": [
    "deap_data = os.path.join(os.getcwd(), 'preprocess_data/deap_mask.hdf5')"
   ]
  },
  {
   "cell_type": "code",
   "execution_count": null,
   "metadata": {},
   "outputs": [],
   "source": [
    "deap_masked_dataset = MaskedDataset(hdf5_file=deap_data, normalize= 'normalization')\n",
    "# Create the data module with batch_size from wandb.config\n",
    "datamodule = SSLDataModule(dataset = deap_masked_dataset,\n",
    "    batch_size=64,\n",
    "    )"
   ]
  },
  {
   "cell_type": "code",
   "execution_count": null,
   "metadata": {},
   "outputs": [
    {
     "data": {
      "application/vnd.jupyter.widget-view+json": {
       "model_id": "8b9bfc82fdd44753a2d9cc4e9379b07b",
       "version_major": 2,
       "version_minor": 0
      },
      "text/plain": [
       "interactive(children=(IntSlider(value=0, description='i', max=7), IntSlider(value=0, description='j', max=99),…"
      ]
     },
     "metadata": {},
     "output_type": "display_data"
    }
   ],
   "source": [
    "%matplotlib widget\n",
    "import matplotlib.pyplot as plt\n",
    "from ipywidgets import interact, IntSlider\n",
    "\n",
    "\n",
    "@interact(i=IntSlider(min=0, max=7, step=1, value=0), j=IntSlider(min=0, max=99, step=1, value=0), continuous_update=False)\n",
    "def plote(i, j):\n",
    "    sample_uva = deap_masked_dataset[j]\n",
    "    sample_uva_masked = sample_uva[0].unsqueeze(0)\n",
    "    sample_uva_raw = sample_uva[1].unsqueeze(0)\n",
    "    sample_uva_mask = sample_uva[2].unsqueeze(0)\n",
    "    output_encoder, _= model(sample_uva_masked.to(model.device))\n",
    "\n",
    "    # Define x, assuming 128 data points for each sample\n",
    "    x = np.linspace(0, 128, 128)\n",
    "\n",
    "    plt.figure(figsize=(10, 6))  # Create a new figure for each plot\n",
    "\n",
    "    # Plot the raw data\n",
    "    plt.plot(x, sample_uva_raw[:,i].cpu().detach().numpy(), label='Raw EEG')\n",
    "    # Plot the mask\n",
    "    plt.plot(x, sample_uva_mask[:,i].cpu().detach().numpy(), label='Mask')\n",
    "    # Plot the prediction\n",
    "    plt.plot(x, output_encoder[:,i].cpu().detach().numpy(), label='Predicted')\n",
    "\n",
    "    plt.legend()\n",
    "    plt.grid(True)\n",
    "    plt.xlabel('Time Step')\n",
    "    plt.ylabel('Amplitude')\n",
    "    plt.title(f'EEG Data Visualization for Channel {i+1} and Sample {j}')\n",
    "    plt.show()"
   ]
  },
  {
   "cell_type": "code",
   "execution_count": null,
   "metadata": {},
   "outputs": [],
   "source": [
    "uva_data = os.path.join(os.getcwd(), 'data/UVA-mask.h5')"
   ]
  },
  {
   "cell_type": "code",
   "execution_count": null,
   "metadata": {},
   "outputs": [],
   "source": [
    "uva_masked = MaskedDataset(hdf5_file=uva_data, normalize= 'normalization')\n",
    "# Create the data module with batch_size from wandb.config\n",
    "datamodule = SSLDataModule(dataset = deap_masked_dataset,\n",
    "    batch_size=64,\n",
    "    )"
   ]
  },
  {
   "cell_type": "code",
   "execution_count": null,
   "metadata": {},
   "outputs": [
    {
     "data": {
      "application/vnd.jupyter.widget-view+json": {
       "model_id": "afb3801bf1764f55826bdb657848fd3e",
       "version_major": 2,
       "version_minor": 0
      },
      "text/plain": [
       "interactive(children=(IntSlider(value=0, description='i', max=7), IntSlider(value=0, description='j', max=99),…"
      ]
     },
     "metadata": {},
     "output_type": "display_data"
    }
   ],
   "source": [
    "%matplotlib widget\n",
    "import matplotlib.pyplot as plt\n",
    "from ipywidgets import interact, IntSlider\n",
    "\n",
    "\n",
    "@interact(i=IntSlider(min=0, max=7, step=1, value=0), j=IntSlider(min=0, max=99, step=1, value=0), continuous_update=False)\n",
    "def plote(i, j):\n",
    "    sample_uva = deap_masked_dataset[j]\n",
    "    sample_uva_masked = sample_uva[0].unsqueeze(0)\n",
    "    sample_uva_raw = sample_uva[1].unsqueeze(0)\n",
    "    sample_uva_mask = sample_uva[2].unsqueeze(0)\n",
    "    output_encoder, _= model(sample_uva_masked.to(model.device))\n",
    "\n",
    "    # Define x, assuming 128 data points for each sample\n",
    "    x = np.linspace(0, 128, 128)\n",
    "\n",
    "    plt.figure(figsize=(10, 6))  # Create a new figure for each plot\n",
    "\n",
    "    # Plot the raw data\n",
    "    plt.plot(x, sample_uva_raw[0,:,i].cpu().detach().numpy(), label='Raw EEG')\n",
    "    # Plot the mask\n",
    "    plt.plot(x, sample_uva_mask[0,:,i].cpu().detach().numpy(), label='Mask')\n",
    "    # Plot the prediction\n",
    "    plt.plot(x, output_encoder[0,:,i].cpu().detach().numpy(), label='Predicted')\n",
    "\n",
    "    plt.legend()\n",
    "    plt.grid(True)\n",
    "    plt.xlabel('Time Step')\n",
    "    plt.ylabel('Amplitude')\n",
    "    plt.title(f'EEG Data Visualization for Channel {i+1} and Sample {j}')\n",
    "    plt.show()"
   ]
  }
 ],
 "metadata": {
  "kernelspec": {
   "display_name": "nemo",
   "language": "python",
   "name": "python3"
  },
  "language_info": {
   "codemirror_mode": {
    "name": "ipython",
    "version": 3
   },
   "file_extension": ".py",
   "mimetype": "text/x-python",
   "name": "python",
   "nbconvert_exporter": "python",
   "pygments_lexer": "ipython3",
   "version": "3.10.12"
  },
  "orig_nbformat": 4
 },
 "nbformat": 4,
 "nbformat_minor": 2
}
